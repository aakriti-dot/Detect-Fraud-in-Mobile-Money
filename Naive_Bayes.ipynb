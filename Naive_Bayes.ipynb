{
 "cells": [
  {
   "cell_type": "code",
   "execution_count": 1,
   "id": "b9482a0d",
   "metadata": {
    "id": "b9482a0d",
    "outputId": "9fd0fe9a-3379-41cb-82d8-98e43f181d64"
   },
   "outputs": [
    {
     "name": "stdout",
     "output_type": "stream",
     "text": [
      "Requirement already satisfied: imbalanced-learn in /Users/aakritinag/opt/anaconda3/lib/python3.9/site-packages (0.9.1)\n",
      "Collecting imbalanced-learn\n",
      "  Downloading imbalanced_learn-0.11.0-py3-none-any.whl (235 kB)\n",
      "\u001b[2K     \u001b[90m━━━━━━━━━━━━━━━━━━━━━━━━━━━━━━━━━━━━━━━\u001b[0m \u001b[32m235.6/235.6 kB\u001b[0m \u001b[31m2.8 MB/s\u001b[0m eta \u001b[36m0:00:00\u001b[0m00:01\u001b[0m00:01\u001b[0m\n",
      "\u001b[?25hRequirement already satisfied: numpy>=1.17.3 in /Users/aakritinag/opt/anaconda3/lib/python3.9/site-packages (from imbalanced-learn) (1.23.5)\n",
      "Requirement already satisfied: scipy>=1.5.0 in /Users/aakritinag/opt/anaconda3/lib/python3.9/site-packages (from imbalanced-learn) (1.10.0)\n",
      "Requirement already satisfied: scikit-learn>=1.0.2 in /Users/aakritinag/opt/anaconda3/lib/python3.9/site-packages (from imbalanced-learn) (1.1.1)\n",
      "Collecting joblib>=1.1.1 (from imbalanced-learn)\n",
      "  Downloading joblib-1.3.2-py3-none-any.whl (302 kB)\n",
      "\u001b[2K     \u001b[90m━━━━━━━━━━━━━━━━━━━━━━━━━━━━━━━━━━━━━━━\u001b[0m \u001b[32m302.2/302.2 kB\u001b[0m \u001b[31m6.6 MB/s\u001b[0m eta \u001b[36m0:00:00\u001b[0m00:01\u001b[0m\n",
      "\u001b[?25hRequirement already satisfied: threadpoolctl>=2.0.0 in /Users/aakritinag/opt/anaconda3/lib/python3.9/site-packages (from imbalanced-learn) (2.2.0)\n",
      "Installing collected packages: joblib, imbalanced-learn\n",
      "  Attempting uninstall: joblib\n",
      "    Found existing installation: joblib 1.1.0\n",
      "    Uninstalling joblib-1.1.0:\n",
      "      Successfully uninstalled joblib-1.1.0\n",
      "  Attempting uninstall: imbalanced-learn\n",
      "    Found existing installation: imbalanced-learn 0.9.1\n",
      "    Uninstalling imbalanced-learn-0.9.1:\n",
      "      Successfully uninstalled imbalanced-learn-0.9.1\n",
      "Successfully installed imbalanced-learn-0.11.0 joblib-1.3.2\n",
      "\n",
      "\u001b[1m[\u001b[0m\u001b[34;49mnotice\u001b[0m\u001b[1;39;49m]\u001b[0m\u001b[39;49m A new release of pip is available: \u001b[0m\u001b[31;49m23.1.2\u001b[0m\u001b[39;49m -> \u001b[0m\u001b[32;49m23.2.1\u001b[0m\n",
      "\u001b[1m[\u001b[0m\u001b[34;49mnotice\u001b[0m\u001b[1;39;49m]\u001b[0m\u001b[39;49m To update, run: \u001b[0m\u001b[32;49mpip install --upgrade pip\u001b[0m\n",
      "Note: you may need to restart the kernel to use updated packages.\n"
     ]
    }
   ],
   "source": [
    "pip install -U imbalanced-learn"
   ]
  },
  {
   "cell_type": "code",
   "execution_count": 2,
   "id": "ee401e7d",
   "metadata": {
    "id": "ee401e7d"
   },
   "outputs": [],
   "source": [
    "import pandas as pd\n",
    "from sklearn.model_selection import train_test_split\n",
    "from sklearn.naive_bayes import GaussianNB\n",
    "from sklearn.metrics import classification_report, confusion_matrix\n",
    "import imblearn\n",
    "from collections import Counter\n",
    "from sklearn.metrics import roc_auc_score"
   ]
  },
  {
   "cell_type": "code",
   "execution_count": 3,
   "id": "54fb4304",
   "metadata": {
    "id": "54fb4304",
    "outputId": "b6ff7175-7bfd-40b2-efaa-b69fcb96dfd1"
   },
   "outputs": [
    {
     "data": {
      "text/html": [
       "<div>\n",
       "<style scoped>\n",
       "    .dataframe tbody tr th:only-of-type {\n",
       "        vertical-align: middle;\n",
       "    }\n",
       "\n",
       "    .dataframe tbody tr th {\n",
       "        vertical-align: top;\n",
       "    }\n",
       "\n",
       "    .dataframe thead th {\n",
       "        text-align: right;\n",
       "    }\n",
       "</style>\n",
       "<table border=\"1\" class=\"dataframe\">\n",
       "  <thead>\n",
       "    <tr style=\"text-align: right;\">\n",
       "      <th></th>\n",
       "      <th>step</th>\n",
       "      <th>type</th>\n",
       "      <th>amount</th>\n",
       "      <th>oldbalanceOrg</th>\n",
       "      <th>newbalanceOrig</th>\n",
       "      <th>oldbalanceDest</th>\n",
       "      <th>newbalanceDest</th>\n",
       "      <th>isFraud</th>\n",
       "      <th>nameOrigDest</th>\n",
       "    </tr>\n",
       "  </thead>\n",
       "  <tbody>\n",
       "    <tr>\n",
       "      <th>0</th>\n",
       "      <td>1</td>\n",
       "      <td>0</td>\n",
       "      <td>9839.64</td>\n",
       "      <td>170136.00</td>\n",
       "      <td>160296.36</td>\n",
       "      <td>0.0</td>\n",
       "      <td>0.00</td>\n",
       "      <td>0</td>\n",
       "      <td>0</td>\n",
       "    </tr>\n",
       "    <tr>\n",
       "      <th>1</th>\n",
       "      <td>1</td>\n",
       "      <td>0</td>\n",
       "      <td>1864.28</td>\n",
       "      <td>21249.00</td>\n",
       "      <td>19384.72</td>\n",
       "      <td>0.0</td>\n",
       "      <td>0.00</td>\n",
       "      <td>0</td>\n",
       "      <td>0</td>\n",
       "    </tr>\n",
       "    <tr>\n",
       "      <th>2</th>\n",
       "      <td>1</td>\n",
       "      <td>1</td>\n",
       "      <td>181.00</td>\n",
       "      <td>181.00</td>\n",
       "      <td>0.00</td>\n",
       "      <td>0.0</td>\n",
       "      <td>0.00</td>\n",
       "      <td>1</td>\n",
       "      <td>1</td>\n",
       "    </tr>\n",
       "    <tr>\n",
       "      <th>3</th>\n",
       "      <td>1</td>\n",
       "      <td>2</td>\n",
       "      <td>181.00</td>\n",
       "      <td>181.00</td>\n",
       "      <td>0.00</td>\n",
       "      <td>21182.0</td>\n",
       "      <td>0.00</td>\n",
       "      <td>1</td>\n",
       "      <td>1</td>\n",
       "    </tr>\n",
       "    <tr>\n",
       "      <th>4</th>\n",
       "      <td>1</td>\n",
       "      <td>0</td>\n",
       "      <td>11668.14</td>\n",
       "      <td>41554.00</td>\n",
       "      <td>29885.86</td>\n",
       "      <td>0.0</td>\n",
       "      <td>0.00</td>\n",
       "      <td>0</td>\n",
       "      <td>0</td>\n",
       "    </tr>\n",
       "    <tr>\n",
       "      <th>5</th>\n",
       "      <td>1</td>\n",
       "      <td>0</td>\n",
       "      <td>7817.71</td>\n",
       "      <td>53860.00</td>\n",
       "      <td>46042.29</td>\n",
       "      <td>0.0</td>\n",
       "      <td>0.00</td>\n",
       "      <td>0</td>\n",
       "      <td>0</td>\n",
       "    </tr>\n",
       "    <tr>\n",
       "      <th>6</th>\n",
       "      <td>1</td>\n",
       "      <td>0</td>\n",
       "      <td>7107.77</td>\n",
       "      <td>183195.00</td>\n",
       "      <td>176087.23</td>\n",
       "      <td>0.0</td>\n",
       "      <td>0.00</td>\n",
       "      <td>0</td>\n",
       "      <td>0</td>\n",
       "    </tr>\n",
       "    <tr>\n",
       "      <th>7</th>\n",
       "      <td>1</td>\n",
       "      <td>0</td>\n",
       "      <td>7861.64</td>\n",
       "      <td>176087.23</td>\n",
       "      <td>168225.59</td>\n",
       "      <td>0.0</td>\n",
       "      <td>0.00</td>\n",
       "      <td>0</td>\n",
       "      <td>0</td>\n",
       "    </tr>\n",
       "    <tr>\n",
       "      <th>8</th>\n",
       "      <td>1</td>\n",
       "      <td>0</td>\n",
       "      <td>4024.36</td>\n",
       "      <td>2671.00</td>\n",
       "      <td>0.00</td>\n",
       "      <td>0.0</td>\n",
       "      <td>0.00</td>\n",
       "      <td>0</td>\n",
       "      <td>0</td>\n",
       "    </tr>\n",
       "    <tr>\n",
       "      <th>9</th>\n",
       "      <td>1</td>\n",
       "      <td>3</td>\n",
       "      <td>5337.77</td>\n",
       "      <td>41720.00</td>\n",
       "      <td>36382.23</td>\n",
       "      <td>41898.0</td>\n",
       "      <td>40348.79</td>\n",
       "      <td>0</td>\n",
       "      <td>1</td>\n",
       "    </tr>\n",
       "  </tbody>\n",
       "</table>\n",
       "</div>"
      ],
      "text/plain": [
       "   step  type    amount  oldbalanceOrg  newbalanceOrig  oldbalanceDest  \\\n",
       "0     1     0   9839.64      170136.00       160296.36             0.0   \n",
       "1     1     0   1864.28       21249.00        19384.72             0.0   \n",
       "2     1     1    181.00         181.00            0.00             0.0   \n",
       "3     1     2    181.00         181.00            0.00         21182.0   \n",
       "4     1     0  11668.14       41554.00        29885.86             0.0   \n",
       "5     1     0   7817.71       53860.00        46042.29             0.0   \n",
       "6     1     0   7107.77      183195.00       176087.23             0.0   \n",
       "7     1     0   7861.64      176087.23       168225.59             0.0   \n",
       "8     1     0   4024.36        2671.00            0.00             0.0   \n",
       "9     1     3   5337.77       41720.00        36382.23         41898.0   \n",
       "\n",
       "   newbalanceDest  isFraud  nameOrigDest  \n",
       "0            0.00        0             0  \n",
       "1            0.00        0             0  \n",
       "2            0.00        1             1  \n",
       "3            0.00        1             1  \n",
       "4            0.00        0             0  \n",
       "5            0.00        0             0  \n",
       "6            0.00        0             0  \n",
       "7            0.00        0             0  \n",
       "8            0.00        0             0  \n",
       "9        40348.79        0             1  "
      ]
     },
     "execution_count": 3,
     "metadata": {},
     "output_type": "execute_result"
    }
   ],
   "source": [
    "df = pd.read_csv('cleaned_data_final.csv')\n",
    "df.head(10)"
   ]
  },
  {
   "cell_type": "code",
   "execution_count": 4,
   "id": "05f1b104",
   "metadata": {
    "id": "05f1b104"
   },
   "outputs": [],
   "source": [
    "x = df[['step', 'type', 'amount', 'oldbalanceOrg','newbalanceOrig', 'oldbalanceDest', 'newbalanceDest', 'nameOrigDest']]\n",
    "y = df['isFraud']"
   ]
  },
  {
   "cell_type": "code",
   "execution_count": 5,
   "id": "743c679d",
   "metadata": {
    "id": "743c679d"
   },
   "outputs": [],
   "source": [
    "# split train and test data\n",
    "x_train, x_test, y_train, y_test = train_test_split(x, y, test_size= 0.33, random_state= 42)"
   ]
  },
  {
   "cell_type": "markdown",
   "id": "26186e9b",
   "metadata": {
    "id": "26186e9b"
   },
   "source": [
    "# Original Dataset"
   ]
  },
  {
   "cell_type": "code",
   "execution_count": 6,
   "id": "38dda1e1",
   "metadata": {
    "id": "38dda1e1"
   },
   "outputs": [],
   "source": [
    "gnb = GaussianNB()\n",
    "gnb.fit(x_train, y_train)\n",
    "y_pred = gnb.predict(x_test)"
   ]
  },
  {
   "cell_type": "code",
   "execution_count": 7,
   "id": "0cfd3994",
   "metadata": {
    "id": "0cfd3994",
    "outputId": "f9dcb231-e5f3-4194-8b57-7c8d0e4b51d4"
   },
   "outputs": [
    {
     "name": "stdout",
     "output_type": "stream",
     "text": [
      "[[2083788   13201]\n",
      " [   2215     456]]\n"
     ]
    }
   ],
   "source": [
    "print(confusion_matrix(y_test, y_pred))"
   ]
  },
  {
   "cell_type": "code",
   "execution_count": 8,
   "id": "609aa66a",
   "metadata": {
    "id": "609aa66a",
    "outputId": "19d309e7-f79c-4587-c6d0-069d4554e097"
   },
   "outputs": [
    {
     "name": "stdout",
     "output_type": "stream",
     "text": [
      "              precision    recall  f1-score   support\n",
      "\n",
      "           0       1.00      0.99      1.00   2096989\n",
      "           1       0.03      0.17      0.06      2671\n",
      "\n",
      "    accuracy                           0.99   2099660\n",
      "   macro avg       0.52      0.58      0.53   2099660\n",
      "weighted avg       1.00      0.99      1.00   2099660\n",
      "\n"
     ]
    }
   ],
   "source": [
    "print(classification_report(y_test, y_pred))"
   ]
  },
  {
   "cell_type": "code",
   "execution_count": 9,
   "id": "0b3c86fc",
   "metadata": {
    "id": "0b3c86fc",
    "outputId": "85fb2c15-2e4a-47ff-c45b-596b8e1c8a7c"
   },
   "outputs": [
    {
     "name": "stdout",
     "output_type": "stream",
     "text": [
      "ROC AUC : 0.5822\n"
     ]
    }
   ],
   "source": [
    "ROC_AUC = roc_auc_score(y_test, y_pred)\n",
    "\n",
    "print('ROC AUC : {:.4f}'.format(ROC_AUC))"
   ]
  },
  {
   "cell_type": "markdown",
   "id": "440886b3",
   "metadata": {
    "id": "440886b3"
   },
   "source": [
    "# Undersampling case"
   ]
  },
  {
   "cell_type": "code",
   "execution_count": 12,
   "id": "4f447419",
   "metadata": {
    "id": "4f447419",
    "outputId": "547fc581-a53e-4fdf-c49b-a5110845c326"
   },
   "outputs": [
    {
     "name": "stdout",
     "output_type": "stream",
     "text": [
      "original dataset shape: Counter({0: 4257418, 1: 5526})\n",
      "Resample dataset shape: Counter({0: 5526, 1: 5526})\n"
     ]
    }
   ],
   "source": [
    "from imblearn.under_sampling import RandomUnderSampler\n",
    "rus=RandomUnderSampler(random_state=42)\n",
    "x_rus, y_rus = rus.fit_resample(x_train, y_train)\n",
    "\n",
    "print('original dataset shape:', Counter(y_train))\n",
    "print('Resample dataset shape:', Counter(y_rus))"
   ]
  },
  {
   "cell_type": "code",
   "execution_count": 13,
   "id": "b25994c4",
   "metadata": {
    "id": "b25994c4"
   },
   "outputs": [],
   "source": [
    "gnb = GaussianNB()\n",
    "gnb.fit(x_rus, y_rus)\n",
    "y_pred_under = gnb.predict(x_test)"
   ]
  },
  {
   "cell_type": "code",
   "execution_count": 14,
   "id": "5690bfdc",
   "metadata": {
    "id": "5690bfdc",
    "outputId": "cc54d181-3d5d-4cc8-8d48-051d73ab2a26"
   },
   "outputs": [
    {
     "name": "stdout",
     "output_type": "stream",
     "text": [
      "[[2014361   82628]\n",
      " [   1685     986]]\n"
     ]
    }
   ],
   "source": [
    "print(confusion_matrix(y_test, y_pred_under))"
   ]
  },
  {
   "cell_type": "code",
   "execution_count": 15,
   "id": "d13b7d87",
   "metadata": {
    "id": "d13b7d87",
    "outputId": "66003d1e-63d3-4d56-8da5-5ed76828bd25"
   },
   "outputs": [
    {
     "name": "stdout",
     "output_type": "stream",
     "text": [
      "              precision    recall  f1-score   support\n",
      "\n",
      "           0       1.00      0.99      1.00   2096989\n",
      "           1       0.03      0.17      0.06      2671\n",
      "\n",
      "    accuracy                           0.99   2099660\n",
      "   macro avg       0.52      0.58      0.53   2099660\n",
      "weighted avg       1.00      0.99      1.00   2099660\n",
      "\n"
     ]
    }
   ],
   "source": [
    "print(classification_report(y_test, y_pred))"
   ]
  },
  {
   "cell_type": "code",
   "execution_count": 16,
   "id": "7f317418",
   "metadata": {
    "id": "7f317418",
    "outputId": "7c003300-5616-45dc-dc51-bea4257fe444"
   },
   "outputs": [
    {
     "name": "stdout",
     "output_type": "stream",
     "text": [
      "ROC AUC : 0.5822\n"
     ]
    }
   ],
   "source": [
    "ROC_AUC = roc_auc_score(y_test, y_pred)\n",
    "\n",
    "print('ROC AUC : {:.4f}'.format(ROC_AUC))"
   ]
  },
  {
   "cell_type": "markdown",
   "id": "cfde646c",
   "metadata": {
    "id": "cfde646c"
   },
   "source": [
    "# Oversampling case"
   ]
  },
  {
   "cell_type": "code",
   "execution_count": 17,
   "id": "af965cef",
   "metadata": {
    "id": "af965cef",
    "outputId": "30d6d4eb-0313-480f-9762-54217bb40fe5"
   },
   "outputs": [
    {
     "name": "stdout",
     "output_type": "stream",
     "text": [
      "original dataset shape: Counter({0: 4257418, 1: 5526})\n",
      "Resample dataset shape Counter({0: 4257418, 1: 4257418})\n"
     ]
    }
   ],
   "source": [
    "from imblearn.over_sampling import RandomOverSampler\n",
    "rus = RandomOverSampler(random_state=42)\n",
    "x_rus_over, y_rus_over = rus.fit_resample(x_train, y_train)\n",
    "print('original dataset shape:', Counter(y_train))\n",
    "print('Resample dataset shape', Counter(y_rus_over))"
   ]
  },
  {
   "cell_type": "code",
   "execution_count": 18,
   "id": "a069ad5a",
   "metadata": {
    "id": "a069ad5a"
   },
   "outputs": [],
   "source": [
    "gnb = GaussianNB()\n",
    "gnb.fit(x_rus_over, y_rus_over)\n",
    "y_pred_over = gnb.predict(x_test)"
   ]
  },
  {
   "cell_type": "code",
   "execution_count": 19,
   "id": "74d67bb9",
   "metadata": {
    "id": "74d67bb9",
    "outputId": "59c5eb57-6f5c-4891-d4e1-0ded7c4b2ba5"
   },
   "outputs": [
    {
     "name": "stdout",
     "output_type": "stream",
     "text": [
      "[[2029982   67007]\n",
      " [   1631    1040]]\n"
     ]
    }
   ],
   "source": [
    "print(confusion_matrix(y_test, y_pred_over))"
   ]
  },
  {
   "cell_type": "code",
   "execution_count": 20,
   "id": "23f25ed3",
   "metadata": {
    "id": "23f25ed3",
    "outputId": "df11a364-6122-4d48-e29a-eb4356dfaee0"
   },
   "outputs": [
    {
     "name": "stdout",
     "output_type": "stream",
     "text": [
      "              precision    recall  f1-score   support\n",
      "\n",
      "           0       1.00      0.97      0.98   2096989\n",
      "           1       0.02      0.39      0.03      2671\n",
      "\n",
      "    accuracy                           0.97   2099660\n",
      "   macro avg       0.51      0.68      0.51   2099660\n",
      "weighted avg       1.00      0.97      0.98   2099660\n",
      "\n"
     ]
    }
   ],
   "source": [
    "print(classification_report(y_test, y_pred_over))"
   ]
  },
  {
   "cell_type": "code",
   "execution_count": 21,
   "id": "46c6c66e",
   "metadata": {
    "id": "46c6c66e",
    "outputId": "74bc79c0-fa01-432b-f1a7-daab80549227"
   },
   "outputs": [
    {
     "name": "stdout",
     "output_type": "stream",
     "text": [
      "ROC AUC : 0.6787\n"
     ]
    }
   ],
   "source": [
    "ROC_AUC = roc_auc_score(y_test, y_pred_over)\n",
    "\n",
    "print('ROC AUC : {:.4f}'.format(ROC_AUC))"
   ]
  }
 ],
 "metadata": {
  "colab": {
   "provenance": []
  },
  "kernelspec": {
   "display_name": "Python 3 (ipykernel)",
   "language": "python",
   "name": "python3"
  },
  "language_info": {
   "codemirror_mode": {
    "name": "ipython",
    "version": 3
   },
   "file_extension": ".py",
   "mimetype": "text/x-python",
   "name": "python",
   "nbconvert_exporter": "python",
   "pygments_lexer": "ipython3",
   "version": "3.9.12"
  }
 },
 "nbformat": 4,
 "nbformat_minor": 5
}
