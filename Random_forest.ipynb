{
 "cells": [
  {
   "cell_type": "code",
   "execution_count": 1,
   "metadata": {
    "id": "NShkm8-cubq_"
   },
   "outputs": [],
   "source": [
    "import pandas as pd\n",
    "import numpy as np\n",
    "import matplotlib.pyplot as plt\n",
    "import seaborn as sns\n",
    "from sklearn.model_selection import GridSearchCV,train_test_split\n",
    "from sklearn.ensemble import GradientBoostingClassifier\n",
    "from sklearn.tree import DecisionTreeClassifier\n",
    "from sklearn.metrics import f1_score,classification_report,roc_auc_score,precision_score,recall_score\n",
    "from sklearn.linear_model import LogisticRegression\n",
    "from sklearn.preprocessing import StandardScaler\n",
    "#delete\n",
    "from sklearn.naive_bayes import GaussianNB\n",
    "from sklearn.metrics import classification_report, confusion_matrix\n",
    "import warnings\n",
    "warnings.filterwarnings('ignore')\n",
    "import imblearn\n",
    "from collections import Counter"
   ]
  },
  {
   "cell_type": "code",
   "execution_count": 2,
   "metadata": {
    "id": "gpjZEvfeubrF"
   },
   "outputs": [],
   "source": [
    "df = pd.read_csv(\"cleaned_data_final.csv\")"
   ]
  },
  {
   "cell_type": "code",
   "execution_count": 3,
   "metadata": {
    "id": "eZEmUZCyubrG"
   },
   "outputs": [],
   "source": [
    "from sklearn.model_selection import train_test_split\n",
    "\n",
    "X=df.drop(['isFraud'],axis=1)  # Features\n",
    "y=df['isFraud']  # Labels\n",
    "\n",
    "# Split dataset into training set and test set\n",
    "X_train, X_test, y_train, y_test = train_test_split(X, y, test_size=0.33, random_state=42) # 67% training and 33% test"
   ]
  },
  {
   "cell_type": "code",
   "execution_count": 4,
   "metadata": {
    "id": "HInbvByFubrH"
   },
   "outputs": [],
   "source": [
    "#Import Random Forest Model\n",
    "from sklearn.ensemble import RandomForestClassifier\n",
    "\n",
    "#Create a Gaussian Classifier\n",
    "clf=RandomForestClassifier(n_estimators=10, oob_score = True, random_state=42)\n",
    "\n",
    "#Train the model using the training sets y_pred=clf.predict(X_test)\n",
    "clf.fit(X_train,y_train)\n",
    "y_pred=clf.predict(X_test)"
   ]
  },
  {
   "cell_type": "code",
   "execution_count": 5,
   "metadata": {
    "id": "olvBRxYlubrI",
    "outputId": "2aa6f338-c3c7-4537-f1a7-77b5bee5f228"
   },
   "outputs": [
    {
     "name": "stdout",
     "output_type": "stream",
     "text": [
      "Accuracy: 0.9997051903641542\n"
     ]
    }
   ],
   "source": [
    "#Import scikit-learn metrics module for accuracy calculation\n",
    "from sklearn import metrics\n",
    "# Model Accuracy, how often is the classifier correct?\n",
    "print(\"Accuracy:\",metrics.accuracy_score(y_test, y_pred))"
   ]
  },
  {
   "cell_type": "code",
   "execution_count": 6,
   "metadata": {
    "id": "6eYzdX2_ubrL"
   },
   "outputs": [],
   "source": [
    "from sklearn.metrics import confusion_matrix"
   ]
  },
  {
   "cell_type": "code",
   "execution_count": 7,
   "metadata": {
    "id": "IO3Jrw4JubrM",
    "outputId": "e9a65b4e-4de8-429f-f4a8-679a1e8f678d"
   },
   "outputs": [
    {
     "name": "stdout",
     "output_type": "stream",
     "text": [
      "              precision    recall  f1-score   support\n",
      "\n",
      "           0       1.00      1.00      1.00   2096989\n",
      "           1       0.98      0.79      0.87      2671\n",
      "\n",
      "    accuracy                           1.00   2099660\n",
      "   macro avg       0.99      0.89      0.94   2099660\n",
      "weighted avg       1.00      1.00      1.00   2099660\n",
      "\n",
      "[[2096942      47]\n",
      " [    572    2099]]\n"
     ]
    }
   ],
   "source": [
    "print(classification_report(y_test, y_pred))\n",
    "print(confusion_matrix(y_test, y_pred))"
   ]
  },
  {
   "cell_type": "code",
   "execution_count": 8,
   "metadata": {
    "id": "Ef1AGbLMubrO",
    "outputId": "f745b1e8-7f5b-4d4f-8502-7f4f1f0a9dc4"
   },
   "outputs": [
    {
     "name": "stdout",
     "output_type": "stream",
     "text": [
      "ROC AUC : 0.8929\n"
     ]
    }
   ],
   "source": [
    "# compute ROC AUC https://www.kaggle.com/code/prashant111/naive-bayes-classifier-in-python#12.-Model-training-\n",
    "\n",
    "from sklearn.metrics import roc_auc_score\n",
    "\n",
    "ROC_AUC = roc_auc_score(y_test, y_pred)\n",
    "\n",
    "print('ROC AUC : {:.4f}'.format(ROC_AUC))\n",
    "\n",
    "#ROC AUC is a single number summary of classifier performance. The higher the value, the better the classifier."
   ]
  },
  {
   "cell_type": "markdown",
   "metadata": {
    "id": "YpVOuhBZubrP"
   },
   "source": [
    "# Undersampling dataset"
   ]
  },
  {
   "cell_type": "code",
   "execution_count": 9,
   "metadata": {
    "id": "wJS-NY33ubrR",
    "outputId": "c259da68-8e76-44a3-cd5d-a2f9ee55d8b0"
   },
   "outputs": [
    {
     "name": "stdout",
     "output_type": "stream",
     "text": [
      "original dataset shape: Counter({0: 4257418, 1: 5526})\n",
      "Resample dataset shape Counter({0: 5526, 1: 5526})\n"
     ]
    }
   ],
   "source": [
    "# import library\n",
    "from imblearn.under_sampling import RandomUnderSampler\n",
    "rus = RandomUnderSampler(random_state=42)# fit predictor and target variable\n",
    "x_rus, y_rus = rus.fit_resample(X_train, y_train)\n",
    "\n",
    "print('original dataset shape:', Counter(y_train))\n",
    "print('Resample dataset shape', Counter(y_rus))"
   ]
  },
  {
   "cell_type": "code",
   "execution_count": 10,
   "metadata": {
    "id": "djlYXjwxubrT"
   },
   "outputs": [],
   "source": [
    "#Import Random Forest Model\n",
    "from sklearn.ensemble import RandomForestClassifier\n",
    "\n",
    "#Create a Gaussian Classifier\n",
    "clf=RandomForestClassifier(n_estimators=10, oob_score = True, random_state=42)\n",
    "\n",
    "#Train the model using the training sets y_pred=clf.predict(X_test)\n",
    "clf.fit(x_rus,y_rus)\n",
    "y_pred=clf.predict(X_test)"
   ]
  },
  {
   "cell_type": "code",
   "execution_count": 11,
   "metadata": {
    "id": "W5Cqna0MubrV",
    "outputId": "19121e9b-e2ef-4d23-ccf1-030934366aa7"
   },
   "outputs": [
    {
     "name": "stdout",
     "output_type": "stream",
     "text": [
      "Accuracy: 0.9879613842241125\n"
     ]
    }
   ],
   "source": [
    "#Import scikit-learn metrics module for accuracy calculation\n",
    "from sklearn import metrics\n",
    "# Model Accuracy, how often is the classifier correct?\n",
    "print(\"Accuracy:\",metrics.accuracy_score(y_test, y_pred))"
   ]
  },
  {
   "cell_type": "code",
   "execution_count": 12,
   "metadata": {
    "id": "INP5XaMnubrV"
   },
   "outputs": [],
   "source": [
    "from sklearn.metrics import confusion_matrix"
   ]
  },
  {
   "cell_type": "code",
   "execution_count": 13,
   "metadata": {
    "id": "9pzapt2qubrW",
    "outputId": "dd109041-899e-4501-ba1a-3fd900ea581a"
   },
   "outputs": [
    {
     "name": "stdout",
     "output_type": "stream",
     "text": [
      "              precision    recall  f1-score   support\n",
      "\n",
      "           0       1.00      0.99      0.99   2096989\n",
      "           1       0.09      0.99      0.17      2671\n",
      "\n",
      "    accuracy                           0.99   2099660\n",
      "   macro avg       0.55      0.99      0.58   2099660\n",
      "weighted avg       1.00      0.99      0.99   2099660\n",
      "\n",
      "[[2071732   25257]\n",
      " [     20    2651]]\n"
     ]
    }
   ],
   "source": [
    "print(classification_report(y_test, y_pred))\n",
    "print(confusion_matrix(y_test, y_pred))"
   ]
  },
  {
   "cell_type": "code",
   "execution_count": 14,
   "metadata": {
    "id": "9czImRXBubrW",
    "outputId": "d51cf29a-7b12-4a71-fea4-05b236327029"
   },
   "outputs": [
    {
     "name": "stdout",
     "output_type": "stream",
     "text": [
      "ROC AUC : 0.9902\n"
     ]
    }
   ],
   "source": [
    "# compute ROC AUC https://www.kaggle.com/code/prashant111/naive-bayes-classifier-in-python#12.-Model-training-\n",
    "\n",
    "from sklearn.metrics import roc_auc_score\n",
    "\n",
    "ROC_AUC = roc_auc_score(y_test, y_pred)\n",
    "\n",
    "print('ROC AUC : {:.4f}'.format(ROC_AUC))\n",
    "\n",
    "#ROC AUC is a single number summary of classifier performance. The higher the value, the better the classifier."
   ]
  },
  {
   "cell_type": "markdown",
   "metadata": {
    "id": "aTNBoLVCubrX"
   },
   "source": [
    "# Oversampling Dataset"
   ]
  },
  {
   "cell_type": "code",
   "execution_count": 15,
   "metadata": {
    "id": "wpBX5qWnubrX",
    "outputId": "fc0c9da8-0c35-43c4-91e4-ecdbaa3d9188"
   },
   "outputs": [
    {
     "name": "stdout",
     "output_type": "stream",
     "text": [
      "original dataset shape: Counter({0: 4257418, 1: 5526})\n",
      "Resample dataset shape Counter({0: 4257418, 1: 4257418})\n"
     ]
    }
   ],
   "source": [
    "# import library\n",
    "from imblearn.over_sampling import RandomOverSampler\n",
    "rus = RandomOverSampler(random_state=42)\n",
    "x_rus, y_rus = rus.fit_resample(X_train, y_train)\n",
    "\n",
    "print('original dataset shape:', Counter(y_train))\n",
    "print('Resample dataset shape', Counter(y_rus))"
   ]
  },
  {
   "cell_type": "code",
   "execution_count": 16,
   "metadata": {
    "id": "etVQbqEUubrY"
   },
   "outputs": [],
   "source": [
    "#Import Random Forest Model\n",
    "from sklearn.ensemble import RandomForestClassifier\n",
    "\n",
    "#Create a Gaussian Classifier\n",
    "clf=RandomForestClassifier(n_estimators=10, oob_score = True, random_state=42)\n",
    "\n",
    "#Train the model using the training sets y_pred=clf.predict(X_test)\n",
    "clf.fit(x_rus,y_rus)\n",
    "y_pred=clf.predict(X_test)"
   ]
  },
  {
   "cell_type": "code",
   "execution_count": 17,
   "metadata": {
    "id": "kT8nelcQubrZ",
    "outputId": "d4c58764-a87a-487a-94c3-413ce626bc45"
   },
   "outputs": [
    {
     "name": "stdout",
     "output_type": "stream",
     "text": [
      "Accuracy: 0.9997094767724298\n"
     ]
    }
   ],
   "source": [
    "#Import scikit-learn metrics module for accuracy calculation\n",
    "from sklearn import metrics\n",
    "# Model Accuracy, how often is the classifier correct?\n",
    "print(\"Accuracy:\",metrics.accuracy_score(y_test, y_pred))"
   ]
  },
  {
   "cell_type": "code",
   "execution_count": 18,
   "metadata": {
    "id": "DbesW0QBubra",
    "outputId": "adf39412-4349-4984-9cc5-e581f2e504f6"
   },
   "outputs": [
    {
     "name": "stdout",
     "output_type": "stream",
     "text": [
      "              precision    recall  f1-score   support\n",
      "\n",
      "           0       1.00      1.00      1.00   2096989\n",
      "           1       0.96      0.80      0.88      2671\n",
      "\n",
      "    accuracy                           1.00   2099660\n",
      "   macro avg       0.98      0.90      0.94   2099660\n",
      "weighted avg       1.00      1.00      1.00   2099660\n",
      "\n",
      "[[2096911      78]\n",
      " [    532    2139]]\n"
     ]
    }
   ],
   "source": [
    "print(classification_report(y_test, y_pred))\n",
    "print(confusion_matrix(y_test, y_pred))"
   ]
  },
  {
   "cell_type": "code",
   "execution_count": 19,
   "metadata": {
    "id": "4OFdNRbFubra",
    "outputId": "acb2d383-0485-4c4e-f460-559b3f61764f"
   },
   "outputs": [
    {
     "name": "stdout",
     "output_type": "stream",
     "text": [
      "ROC AUC : 0.9004\n"
     ]
    }
   ],
   "source": [
    "# compute ROC AUC https://www.kaggle.com/code/prashant111/naive-bayes-classifier-in-python#12.-Model-training-\n",
    "\n",
    "from sklearn.metrics import roc_auc_score\n",
    "\n",
    "ROC_AUC = roc_auc_score(y_test, y_pred)\n",
    "\n",
    "print('ROC AUC : {:.4f}'.format(ROC_AUC))\n",
    "\n",
    "#ROC AUC is a single number summary of classifier performance. The higher the value, the better the classifier."
   ]
  }
 ],
 "metadata": {
  "colab": {
   "provenance": []
  },
  "kernelspec": {
   "display_name": "Python 3 (ipykernel)",
   "language": "python",
   "name": "python3"
  },
  "language_info": {
   "codemirror_mode": {
    "name": "ipython",
    "version": 3
   },
   "file_extension": ".py",
   "mimetype": "text/x-python",
   "name": "python",
   "nbconvert_exporter": "python",
   "pygments_lexer": "ipython3",
   "version": "3.9.12"
  }
 },
 "nbformat": 4,
 "nbformat_minor": 1
}
