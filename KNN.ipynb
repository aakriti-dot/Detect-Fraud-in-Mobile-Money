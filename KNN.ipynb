{
 "cells": [
  {
   "cell_type": "code",
   "execution_count": 1,
   "id": "b9af0944",
   "metadata": {
    "id": "b9af0944"
   },
   "outputs": [],
   "source": [
    "import pandas as pd\n",
    "import numpy as np\n",
    "import matplotlib.pyplot as plt\n",
    "import seaborn as sns\n",
    "from collections import Counter\n",
    "from imblearn.over_sampling import RandomOverSampler\n",
    "from imblearn.under_sampling import RandomUnderSampler\n",
    "from sklearn.neighbors import KNeighborsClassifier\n",
    "\n",
    "\n",
    "df = pd.read_csv('cleaned_data_final.csv')\n",
    "\n",
    "#Train test Split\n",
    "from sklearn.model_selection import train_test_split\n",
    "\n",
    "X1 = df[['step', 'amount', 'oldbalanceOrg','newbalanceOrig','oldbalanceDest','newbalanceDest', 'type', 'nameOrigDest']]\n",
    "y1 = df['isFraud']\n",
    "\n",
    "X1_train, X1_test, y1_train, y1_test = train_test_split(X1, y1, test_size=0.33, random_state=42)"
   ]
  },
  {
   "cell_type": "markdown",
   "id": "8a8dddf3",
   "metadata": {
    "id": "8a8dddf3"
   },
   "source": [
    "## Original dataset"
   ]
  },
  {
   "cell_type": "code",
   "execution_count": 2,
   "id": "57032178",
   "metadata": {
    "id": "57032178",
    "outputId": "62bea378-f504-4226-9516-43c70a957db3"
   },
   "outputs": [
    {
     "name": "stderr",
     "output_type": "stream",
     "text": [
      "/Users/aakritinag/opt/anaconda3/lib/python3.9/site-packages/sklearn/neighbors/_classification.py:237: FutureWarning: Unlike other reduction functions (e.g. `skew`, `kurtosis`), the default behavior of `mode` typically preserves the axis it acts along. In SciPy 1.11.0, this behavior will change: the default value of `keepdims` will become False, the `axis` over which the statistic is taken will be eliminated, and the value None will no longer be accepted. Set `keepdims` to True or False to avoid this warning.\n",
      "  mode, _ = stats.mode(_y[neigh_ind, k], axis=1)\n"
     ]
    },
    {
     "name": "stdout",
     "output_type": "stream",
     "text": [
      "Accuracy: 0.9994689616414086\n",
      "[[2096816     173]\n",
      " [    942    1729]]\n",
      "              precision    recall  f1-score   support\n",
      "\n",
      "           0       1.00      1.00      1.00   2096989\n",
      "           1       0.91      0.65      0.76      2671\n",
      "\n",
      "    accuracy                           1.00   2099660\n",
      "   macro avg       0.95      0.82      0.88   2099660\n",
      "weighted avg       1.00      1.00      1.00   2099660\n",
      "\n",
      "AUC: 0.8236203003609915\n"
     ]
    }
   ],
   "source": [
    "#original\n",
    "knn = KNeighborsClassifier(n_neighbors=2)\n",
    "knn.fit(X1_train,y1_train)\n",
    "pred = knn.predict(X1_test)\n",
    "\n",
    "from sklearn.metrics import classification_report,confusion_matrix\n",
    "from sklearn.metrics import roc_auc_score\n",
    "from sklearn import metrics\n",
    "\n",
    "print(\"Accuracy:\",metrics.accuracy_score(y1_test,pred))\n",
    "print(confusion_matrix(y1_test,pred))\n",
    "print(classification_report(y1_test,pred))\n",
    "\n",
    "AUC = roc_auc_score(y1_test, pred)\n",
    "print('AUC:', AUC)"
   ]
  },
  {
   "cell_type": "markdown",
   "id": "f356eee1",
   "metadata": {
    "id": "f356eee1"
   },
   "source": [
    "## Oversampling"
   ]
  },
  {
   "cell_type": "code",
   "execution_count": 3,
   "id": "4e2f76fd",
   "metadata": {
    "id": "4e2f76fd",
    "outputId": "202e49a1-f8e1-4784-cd21-4c117bc9d268"
   },
   "outputs": [
    {
     "name": "stderr",
     "output_type": "stream",
     "text": [
      "/Users/aakritinag/opt/anaconda3/lib/python3.9/site-packages/sklearn/neighbors/_classification.py:237: FutureWarning: Unlike other reduction functions (e.g. `skew`, `kurtosis`), the default behavior of `mode` typically preserves the axis it acts along. In SciPy 1.11.0, this behavior will change: the default value of `keepdims` will become False, the `axis` over which the statistic is taken will be eliminated, and the value None will no longer be accepted. Set `keepdims` to True or False to avoid this warning.\n",
      "  mode, _ = stats.mode(_y[neigh_ind, k], axis=1)\n"
     ]
    },
    {
     "name": "stdout",
     "output_type": "stream",
     "text": [
      "Accuracy: 0.9992922663669356\n",
      "[[2096223     766]\n",
      " [    720    1951]]\n",
      "              precision    recall  f1-score   support\n",
      "\n",
      "           0       1.00      1.00      1.00   2096989\n",
      "           1       0.72      0.73      0.72      2671\n",
      "\n",
      "    accuracy                           1.00   2099660\n",
      "   macro avg       0.86      0.87      0.86   2099660\n",
      "weighted avg       1.00      1.00      1.00   2099660\n",
      "\n",
      "AUC: 0.865036376266566\n"
     ]
    }
   ],
   "source": [
    "#Oversampling\n",
    "rus=RandomOverSampler(random_state=42)\n",
    "\n",
    "x_rus, y_rus=rus.fit_resample(X1_train,y1_train)\n",
    "\n",
    "knn = KNeighborsClassifier(n_neighbors=2)\n",
    "knn.fit(x_rus,y_rus)\n",
    "pred = knn.predict(X1_test)\n",
    "\n",
    "print(\"Accuracy:\",metrics.accuracy_score(y1_test,pred))\n",
    "print(confusion_matrix(y1_test,pred))\n",
    "print(classification_report(y1_test,pred))\n",
    "\n",
    "AUC = roc_auc_score(y1_test, pred)\n",
    "print('AUC:', AUC)"
   ]
  },
  {
   "cell_type": "markdown",
   "id": "5a2539cf",
   "metadata": {
    "id": "5a2539cf"
   },
   "source": [
    "## Undersampling"
   ]
  },
  {
   "cell_type": "code",
   "execution_count": 4,
   "id": "93050c1f",
   "metadata": {
    "id": "93050c1f",
    "outputId": "d1ea25e6-63a0-4dbc-e22f-3a1d65e504f7"
   },
   "outputs": [
    {
     "name": "stderr",
     "output_type": "stream",
     "text": [
      "/Users/aakritinag/opt/anaconda3/lib/python3.9/site-packages/sklearn/neighbors/_classification.py:237: FutureWarning: Unlike other reduction functions (e.g. `skew`, `kurtosis`), the default behavior of `mode` typically preserves the axis it acts along. In SciPy 1.11.0, this behavior will change: the default value of `keepdims` will become False, the `axis` over which the statistic is taken will be eliminated, and the value None will no longer be accepted. Set `keepdims` to True or False to avoid this warning.\n",
      "  mode, _ = stats.mode(_y[neigh_ind, k], axis=1)\n"
     ]
    },
    {
     "name": "stdout",
     "output_type": "stream",
     "text": [
      "Accuracy: 0.9702504214968137\n",
      "[[2034690   62299]\n",
      " [    165    2506]]\n",
      "              precision    recall  f1-score   support\n",
      "\n",
      "           0       1.00      0.97      0.98   2096989\n",
      "           1       0.04      0.94      0.07      2671\n",
      "\n",
      "    accuracy                           0.97   2099660\n",
      "   macro avg       0.52      0.95      0.53   2099660\n",
      "weighted avg       1.00      0.97      0.98   2099660\n",
      "\n",
      "AUC: 0.9542582982665796\n"
     ]
    }
   ],
   "source": [
    "#Undersampling\n",
    "rus=RandomUnderSampler(random_state=42)\n",
    "\n",
    "x_rus, y_rus=rus.fit_resample(X1_train,y1_train)\n",
    "\n",
    "knn = KNeighborsClassifier(n_neighbors=2)\n",
    "knn.fit(x_rus,y_rus)\n",
    "pred = knn.predict(X1_test)\n",
    "\n",
    "print(\"Accuracy:\",metrics.accuracy_score(y1_test,pred))\n",
    "print(confusion_matrix(y1_test,pred))\n",
    "print(classification_report(y1_test,pred))\n",
    "\n",
    "AUC = roc_auc_score(y1_test, pred)\n",
    "print('AUC:', AUC)"
   ]
  }
 ],
 "metadata": {
  "colab": {
   "provenance": []
  },
  "kernelspec": {
   "display_name": "Python 3 (ipykernel)",
   "language": "python",
   "name": "python3"
  },
  "language_info": {
   "codemirror_mode": {
    "name": "ipython",
    "version": 3
   },
   "file_extension": ".py",
   "mimetype": "text/x-python",
   "name": "python",
   "nbconvert_exporter": "python",
   "pygments_lexer": "ipython3",
   "version": "3.9.12"
  }
 },
 "nbformat": 4,
 "nbformat_minor": 5
}
