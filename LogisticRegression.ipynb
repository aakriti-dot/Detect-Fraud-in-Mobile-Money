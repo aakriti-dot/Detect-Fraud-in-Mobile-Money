{
 "cells": [
  {
   "cell_type": "code",
   "execution_count": 1,
   "id": "1c516bc5",
   "metadata": {
    "id": "1c516bc5",
    "outputId": "1c74dce1-5cfe-4a8b-ab2f-b4696c349187"
   },
   "outputs": [
    {
     "data": {
      "text/html": [
       "<div>\n",
       "<style scoped>\n",
       "    .dataframe tbody tr th:only-of-type {\n",
       "        vertical-align: middle;\n",
       "    }\n",
       "\n",
       "    .dataframe tbody tr th {\n",
       "        vertical-align: top;\n",
       "    }\n",
       "\n",
       "    .dataframe thead th {\n",
       "        text-align: right;\n",
       "    }\n",
       "</style>\n",
       "<table border=\"1\" class=\"dataframe\">\n",
       "  <thead>\n",
       "    <tr style=\"text-align: right;\">\n",
       "      <th></th>\n",
       "      <th>step</th>\n",
       "      <th>type</th>\n",
       "      <th>amount</th>\n",
       "      <th>oldbalanceOrg</th>\n",
       "      <th>newbalanceOrig</th>\n",
       "      <th>oldbalanceDest</th>\n",
       "      <th>newbalanceDest</th>\n",
       "      <th>isFraud</th>\n",
       "      <th>nameOrigDest</th>\n",
       "    </tr>\n",
       "  </thead>\n",
       "  <tbody>\n",
       "    <tr>\n",
       "      <th>0</th>\n",
       "      <td>1</td>\n",
       "      <td>0</td>\n",
       "      <td>9839.64</td>\n",
       "      <td>170136.00</td>\n",
       "      <td>160296.36</td>\n",
       "      <td>0.00</td>\n",
       "      <td>0.00</td>\n",
       "      <td>0</td>\n",
       "      <td>0</td>\n",
       "    </tr>\n",
       "    <tr>\n",
       "      <th>1</th>\n",
       "      <td>1</td>\n",
       "      <td>0</td>\n",
       "      <td>1864.28</td>\n",
       "      <td>21249.00</td>\n",
       "      <td>19384.72</td>\n",
       "      <td>0.00</td>\n",
       "      <td>0.00</td>\n",
       "      <td>0</td>\n",
       "      <td>0</td>\n",
       "    </tr>\n",
       "    <tr>\n",
       "      <th>2</th>\n",
       "      <td>1</td>\n",
       "      <td>1</td>\n",
       "      <td>181.00</td>\n",
       "      <td>181.00</td>\n",
       "      <td>0.00</td>\n",
       "      <td>0.00</td>\n",
       "      <td>0.00</td>\n",
       "      <td>1</td>\n",
       "      <td>1</td>\n",
       "    </tr>\n",
       "    <tr>\n",
       "      <th>3</th>\n",
       "      <td>1</td>\n",
       "      <td>2</td>\n",
       "      <td>181.00</td>\n",
       "      <td>181.00</td>\n",
       "      <td>0.00</td>\n",
       "      <td>21182.00</td>\n",
       "      <td>0.00</td>\n",
       "      <td>1</td>\n",
       "      <td>1</td>\n",
       "    </tr>\n",
       "    <tr>\n",
       "      <th>4</th>\n",
       "      <td>1</td>\n",
       "      <td>0</td>\n",
       "      <td>11668.14</td>\n",
       "      <td>41554.00</td>\n",
       "      <td>29885.86</td>\n",
       "      <td>0.00</td>\n",
       "      <td>0.00</td>\n",
       "      <td>0</td>\n",
       "      <td>0</td>\n",
       "    </tr>\n",
       "    <tr>\n",
       "      <th>...</th>\n",
       "      <td>...</td>\n",
       "      <td>...</td>\n",
       "      <td>...</td>\n",
       "      <td>...</td>\n",
       "      <td>...</td>\n",
       "      <td>...</td>\n",
       "      <td>...</td>\n",
       "      <td>...</td>\n",
       "      <td>...</td>\n",
       "    </tr>\n",
       "    <tr>\n",
       "      <th>6362599</th>\n",
       "      <td>743</td>\n",
       "      <td>2</td>\n",
       "      <td>339682.13</td>\n",
       "      <td>339682.13</td>\n",
       "      <td>0.00</td>\n",
       "      <td>0.00</td>\n",
       "      <td>339682.13</td>\n",
       "      <td>1</td>\n",
       "      <td>1</td>\n",
       "    </tr>\n",
       "    <tr>\n",
       "      <th>6362600</th>\n",
       "      <td>743</td>\n",
       "      <td>1</td>\n",
       "      <td>6311409.28</td>\n",
       "      <td>6311409.28</td>\n",
       "      <td>0.00</td>\n",
       "      <td>0.00</td>\n",
       "      <td>0.00</td>\n",
       "      <td>1</td>\n",
       "      <td>1</td>\n",
       "    </tr>\n",
       "    <tr>\n",
       "      <th>6362601</th>\n",
       "      <td>743</td>\n",
       "      <td>2</td>\n",
       "      <td>6311409.28</td>\n",
       "      <td>6311409.28</td>\n",
       "      <td>0.00</td>\n",
       "      <td>68488.84</td>\n",
       "      <td>6379898.11</td>\n",
       "      <td>1</td>\n",
       "      <td>1</td>\n",
       "    </tr>\n",
       "    <tr>\n",
       "      <th>6362602</th>\n",
       "      <td>743</td>\n",
       "      <td>1</td>\n",
       "      <td>850002.52</td>\n",
       "      <td>850002.52</td>\n",
       "      <td>0.00</td>\n",
       "      <td>0.00</td>\n",
       "      <td>0.00</td>\n",
       "      <td>1</td>\n",
       "      <td>1</td>\n",
       "    </tr>\n",
       "    <tr>\n",
       "      <th>6362603</th>\n",
       "      <td>743</td>\n",
       "      <td>2</td>\n",
       "      <td>850002.52</td>\n",
       "      <td>850002.52</td>\n",
       "      <td>0.00</td>\n",
       "      <td>6510099.11</td>\n",
       "      <td>7360101.63</td>\n",
       "      <td>1</td>\n",
       "      <td>1</td>\n",
       "    </tr>\n",
       "  </tbody>\n",
       "</table>\n",
       "<p>6362604 rows × 9 columns</p>\n",
       "</div>"
      ],
      "text/plain": [
       "         step  type      amount  oldbalanceOrg  newbalanceOrig  \\\n",
       "0           1     0     9839.64      170136.00       160296.36   \n",
       "1           1     0     1864.28       21249.00        19384.72   \n",
       "2           1     1      181.00         181.00            0.00   \n",
       "3           1     2      181.00         181.00            0.00   \n",
       "4           1     0    11668.14       41554.00        29885.86   \n",
       "...       ...   ...         ...            ...             ...   \n",
       "6362599   743     2   339682.13      339682.13            0.00   \n",
       "6362600   743     1  6311409.28     6311409.28            0.00   \n",
       "6362601   743     2  6311409.28     6311409.28            0.00   \n",
       "6362602   743     1   850002.52      850002.52            0.00   \n",
       "6362603   743     2   850002.52      850002.52            0.00   \n",
       "\n",
       "         oldbalanceDest  newbalanceDest  isFraud  nameOrigDest  \n",
       "0                  0.00            0.00        0             0  \n",
       "1                  0.00            0.00        0             0  \n",
       "2                  0.00            0.00        1             1  \n",
       "3              21182.00            0.00        1             1  \n",
       "4                  0.00            0.00        0             0  \n",
       "...                 ...             ...      ...           ...  \n",
       "6362599            0.00       339682.13        1             1  \n",
       "6362600            0.00            0.00        1             1  \n",
       "6362601        68488.84      6379898.11        1             1  \n",
       "6362602            0.00            0.00        1             1  \n",
       "6362603      6510099.11      7360101.63        1             1  \n",
       "\n",
       "[6362604 rows x 9 columns]"
      ]
     },
     "execution_count": 1,
     "metadata": {},
     "output_type": "execute_result"
    }
   ],
   "source": [
    "import pandas as pd\n",
    "import numpy as np\n",
    "import matplotlib.pyplot as plt\n",
    "import seaborn as sns\n",
    "from collections import Counter\n",
    "from imblearn.over_sampling import RandomOverSampler\n",
    "from imblearn.under_sampling import RandomUnderSampler\n",
    "from sklearn.linear_model import LogisticRegression\n",
    "\n",
    "\n",
    "df = pd.read_csv('cleaned_data_final.csv')\n",
    "df"
   ]
  },
  {
   "cell_type": "code",
   "execution_count": 2,
   "id": "d18f2893",
   "metadata": {
    "id": "d18f2893"
   },
   "outputs": [],
   "source": [
    "#Train Test Split\n",
    "\n",
    "from sklearn.model_selection import train_test_split\n",
    "\n",
    "X1 = df[['step', 'amount', 'oldbalanceOrg','newbalanceOrig','oldbalanceDest','newbalanceDest', 'type', 'nameOrigDest']]\n",
    "y1 = df['isFraud']\n",
    "\n",
    "X1_train, X1_test, y1_train, y1_test = train_test_split(X1, y1, test_size=0.33, random_state=42)"
   ]
  },
  {
   "cell_type": "markdown",
   "id": "e9665dc0",
   "metadata": {
    "id": "e9665dc0"
   },
   "source": [
    "## Original dataset"
   ]
  },
  {
   "cell_type": "code",
   "execution_count": 3,
   "id": "5d7454ac",
   "metadata": {
    "id": "5d7454ac",
    "outputId": "01ef3087-351c-47e0-c1e2-aa44e50e65df"
   },
   "outputs": [
    {
     "name": "stdout",
     "output_type": "stream",
     "text": [
      "Accuracy: 0.9983025823228523\n",
      "[[2094910    2079]\n",
      " [   1485    1186]]\n",
      "              precision    recall  f1-score   support\n",
      "\n",
      "           0       1.00      1.00      1.00   2096989\n",
      "           1       0.36      0.44      0.40      2671\n",
      "\n",
      "    accuracy                           1.00   2099660\n",
      "   macro avg       0.68      0.72      0.70   2099660\n",
      "weighted avg       1.00      1.00      1.00   2099660\n",
      "\n",
      "ROC AUC : 0.7215\n"
     ]
    }
   ],
   "source": [
    "#Original\n",
    "logmodel = LogisticRegression()\n",
    "logmodel.fit(X1_train,y1_train)\n",
    "\n",
    "pred = logmodel.predict(X1_test)\n",
    "\n",
    "from sklearn.metrics import classification_report,confusion_matrix\n",
    "from sklearn import metrics\n",
    "from sklearn.metrics import roc_auc_score\n",
    "\n",
    "print(\"Accuracy:\",metrics.accuracy_score(y1_test,pred))\n",
    "print(confusion_matrix(y1_test,pred))\n",
    "print(classification_report(y1_test,pred))\n",
    "\n",
    "ROC_AUC = roc_auc_score(y1_test, pred)\n",
    "print('ROC AUC : {:.4f}'.format(ROC_AUC))"
   ]
  },
  {
   "cell_type": "markdown",
   "id": "67a9eba7",
   "metadata": {
    "id": "67a9eba7"
   },
   "source": [
    "## Oversampling"
   ]
  },
  {
   "cell_type": "code",
   "execution_count": 4,
   "id": "645b4544",
   "metadata": {
    "id": "645b4544",
    "outputId": "385f78d0-6539-4fd2-9a8d-6bc5eb7281ff"
   },
   "outputs": [
    {
     "name": "stdout",
     "output_type": "stream",
     "text": [
      "Accuracy: 0.9147766781288399\n",
      "[[1918339  178650]\n",
      " [    290    2381]]\n",
      "              precision    recall  f1-score   support\n",
      "\n",
      "           0       1.00      0.91      0.96   2096989\n",
      "           1       0.01      0.89      0.03      2671\n",
      "\n",
      "    accuracy                           0.91   2099660\n",
      "   macro avg       0.51      0.90      0.49   2099660\n",
      "weighted avg       1.00      0.91      0.95   2099660\n",
      "\n",
      "ROC AUC : 0.9031\n"
     ]
    }
   ],
   "source": [
    "#OverSampling\n",
    "rus=RandomOverSampler(random_state=42)\n",
    "\n",
    "x_rus, y_rus=rus.fit_resample(X1_train,y1_train)\n",
    "\n",
    "logmodel = LogisticRegression()\n",
    "logmodel.fit(x_rus,y_rus)\n",
    "\n",
    "pred = logmodel.predict(X1_test)\n",
    "\n",
    "print(\"Accuracy:\",metrics.accuracy_score(y1_test,pred))\n",
    "print(confusion_matrix(y1_test,pred))\n",
    "print(classification_report(y1_test,pred))\n",
    "\n",
    "ROC_AUC = roc_auc_score(y1_test, pred)\n",
    "print('ROC AUC : {:.4f}'.format(ROC_AUC))"
   ]
  },
  {
   "cell_type": "markdown",
   "id": "9268324e",
   "metadata": {
    "id": "9268324e"
   },
   "source": [
    "## Undersampling"
   ]
  },
  {
   "cell_type": "code",
   "execution_count": 5,
   "id": "9f9d0d69",
   "metadata": {
    "id": "9f9d0d69",
    "outputId": "a374a121-3dcc-4e9e-d595-864e3ee8052b"
   },
   "outputs": [
    {
     "name": "stdout",
     "output_type": "stream",
     "text": [
      "Accuracy: 0.913977977386815\n",
      "[[1916661  180328]\n",
      " [    289    2382]]\n",
      "              precision    recall  f1-score   support\n",
      "\n",
      "           0       1.00      0.91      0.96   2096989\n",
      "           1       0.01      0.89      0.03      2671\n",
      "\n",
      "    accuracy                           0.91   2099660\n",
      "   macro avg       0.51      0.90      0.49   2099660\n",
      "weighted avg       1.00      0.91      0.95   2099660\n",
      "\n",
      "ROC AUC : 0.9029\n"
     ]
    }
   ],
   "source": [
    "#UnderSampling\n",
    "rus=RandomUnderSampler(random_state=42)\n",
    "\n",
    "x_rus, y_rus=rus.fit_resample(X1_train,y1_train)\n",
    "\n",
    "logmodel = LogisticRegression()\n",
    "logmodel.fit(x_rus,y_rus)\n",
    "\n",
    "pred = logmodel.predict(X1_test)\n",
    "\n",
    "print(\"Accuracy:\",metrics.accuracy_score(y1_test,pred))\n",
    "print(confusion_matrix(y1_test,pred))\n",
    "print(classification_report(y1_test,pred))\n",
    "\n",
    "ROC_AUC = roc_auc_score(y1_test, pred)\n",
    "print('ROC AUC : {:.4f}'.format(ROC_AUC))"
   ]
  }
 ],
 "metadata": {
  "colab": {
   "provenance": []
  },
  "kernelspec": {
   "display_name": "Python 3 (ipykernel)",
   "language": "python",
   "name": "python3"
  },
  "language_info": {
   "codemirror_mode": {
    "name": "ipython",
    "version": 3
   },
   "file_extension": ".py",
   "mimetype": "text/x-python",
   "name": "python",
   "nbconvert_exporter": "python",
   "pygments_lexer": "ipython3",
   "version": "3.9.12"
  }
 },
 "nbformat": 4,
 "nbformat_minor": 5
}
